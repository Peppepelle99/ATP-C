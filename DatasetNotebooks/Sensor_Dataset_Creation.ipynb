{
  "nbformat": 4,
  "nbformat_minor": 0,
  "metadata": {
    "colab": {
      "provenance": []
    },
    "kernelspec": {
      "name": "python3",
      "display_name": "Python 3"
    },
    "language_info": {
      "name": "python"
    }
  },
  "cells": [
    {
      "cell_type": "code",
      "execution_count": null,
      "metadata": {
        "id": "J2yvVqDtb8Nh"
      },
      "outputs": [],
      "source": [
        "import pandas as pd\n",
        "import matplotlib.pyplot as plt\n",
        "import numpy as np"
      ]
    },
    {
      "cell_type": "code",
      "source": [
        "names = ['Water', 'Ethanol', 'Miscela', 'Hydrogen', 'Air']\n",
        "index = np.arange(0, 8.2, 0.1)\n",
        "dataset = None;\n",
        "\n",
        "for idx, modello in enumerate(['Fourier','g05','g15','g2']):\n",
        "  dati_tmp = pd.read_csv('s100_2000' + f'_{names[0]}_{modello}' +'.csv', skiprows=4).pivot(index='Time (s)', columns='% s (nm)', values=f'{names[0]} (degC)')\n",
        "\n",
        "  for name in names[1:]:\n",
        "    dati_tmp_2 = pd.read_csv('s100_2000' + f'_{name}_{modello}' +'.csv', skiprows=4).pivot(index='Time (s)', columns='% s (nm)', values=f'{name} (degC)')\n",
        "    dati_tmp = pd.concat([dati_tmp,dati_tmp_2.iloc[:,:]], axis = 1)\n",
        "\n",
        "  if modello == 'g05':\n",
        "    dati_tmp.loc[8.1]=([np.NaN]*len(dati_tmp.columns))\n",
        "    dati_tmp = dati_tmp.sort_index()\n",
        "\n",
        "  dati_tmp.loc[dati_tmp.shape[0]+1] = ([idx]*len(dati_tmp.columns))\n",
        "  dati_tmp.index = index\n",
        "\n",
        "  if dataset is None:\n",
        "    dataset = dati_tmp\n",
        "  else:\n",
        "    dataset = pd.concat([dataset,dati_tmp.iloc[:,:]], axis = 1)\n"
      ],
      "metadata": {
        "id": "OgdunH_Gj53W"
      },
      "execution_count": null,
      "outputs": []
    },
    {
      "cell_type": "code",
      "source": [
        "dataset = dataset.drop(8.0)"
      ],
      "metadata": {
        "id": "_vIbNzH5lUcA"
      },
      "execution_count": null,
      "outputs": []
    },
    {
      "cell_type": "code",
      "source": [
        "dataset = dataset.transpose()\n",
        "npv = dataset.values"
      ],
      "metadata": {
        "id": "8a2ljITrqIwl"
      },
      "execution_count": null,
      "outputs": []
    },
    {
      "cell_type": "code",
      "source": [
        "np.save('Dataset_Complete_Copper.npy', npv)"
      ],
      "metadata": {
        "id": "PoQJ-m_7VHTq"
      },
      "execution_count": null,
      "outputs": []
    }
  ]
}