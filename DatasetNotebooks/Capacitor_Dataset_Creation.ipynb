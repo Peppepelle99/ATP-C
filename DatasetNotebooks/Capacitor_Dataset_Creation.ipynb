{
  "nbformat": 4,
  "nbformat_minor": 0,
  "metadata": {
    "colab": {
      "provenance": []
    },
    "kernelspec": {
      "name": "python3",
      "display_name": "Python 3"
    },
    "language_info": {
      "name": "python"
    }
  },
  "cells": [
    {
      "cell_type": "code",
      "source": [
        "import pandas as pd\n",
        "import matplotlib.pyplot as plt\n",
        "import numpy as np\n",
        "from labels_condensatore import labels_condensatore, dict_labels"
      ],
      "metadata": {
        "id": "K9gcZ34m_D64"
      },
      "execution_count": null,
      "outputs": []
    },
    {
      "cell_type": "code",
      "source": [
        "import scipy.io\n",
        "array_dict = {'5V':{},\n",
        "              '12V':{},\n",
        "              '24V': {}}\n",
        "for v in ['12']:\n",
        "  for name in ['RE95']:\n",
        "    filename = f'{name}_{v}V'\n",
        "    mat = scipy.io.loadmat(f'{filename}.mat')\n",
        "    arr = mat[filename]\n",
        "\n",
        "    colonne_da_estrarre = [1, 2]\n",
        "    result = [[row[i] for i in colonne_da_estrarre] for row in arr]\n",
        "\n",
        "    array_dict[f'{v}V'][name] = result\n",
        "    print(name)\n",
        "    print(mat[filename])"
      ],
      "metadata": {
        "id": "CTEomwRPPXZB"
      },
      "execution_count": null,
      "outputs": []
    },
    {
      "cell_type": "code",
      "source": [
        "import zipfile\n",
        "\n",
        "# Percorso del file zip da decomprimere\n",
        "percorso_file_zip = 'Dati_Dataset_conduttivi.zip'\n",
        "\n",
        "# Percorso della cartella di destinazione per l'estrazione\n",
        "percorso_cartella_destinazione = './'\n",
        "\n",
        "# Decomprimi il file zip\n",
        "with zipfile.ZipFile(percorso_file_zip, 'r') as zip_ref:\n",
        "    zip_ref.extractall(percorso_cartella_destinazione)"
      ],
      "metadata": {
        "collapsed": true,
        "id": "R1Eo5TDvcyOJ"
      },
      "execution_count": null,
      "outputs": []
    },
    {
      "cell_type": "code",
      "source": [
        "def is_within_range(value, range_tuple, type):\n",
        "\n",
        "    lower_bound, upper_bound = range_tuple\n",
        "    if type == 'd':\n",
        "      return 10 ** lower_bound <= value <= 10 ** upper_bound\n",
        "    else:\n",
        "      return lower_bound <= value <= upper_bound\n",
        "\n",
        "def assign_label(v, name, ex):\n",
        "  D, gamma = labels_condensatore()['test_conductive'][f'{v}V'][name][ex]\n",
        "\n",
        "  for item in dict_labels().items():\n",
        "    label, values = item\n",
        "    range_g,range_d = values['g'], values['d']\n",
        "\n",
        "    if is_within_range(gamma, range_g, 'g') and is_within_range(D, range_d, 'd'):\n",
        "      return label\n",
        "\n",
        "  return -1\n"
      ],
      "metadata": {
        "id": "-xMCJ0YEIdM9"
      },
      "execution_count": null,
      "outputs": []
    },
    {
      "cell_type": "code",
      "source": [
        "#voltage = [5,10,12,15,20]\n",
        "voltage = ['0.5','1','2','3','5']\n",
        "experiments = [x+1 for x in range(10)]\n",
        "names = ['aria_aria','alcool_iso', 'deion', 'rubin', 'ultra', 'novec', 'sf33']\n",
        "#names = ['aria', 'etanolo','RE1','RE5','RE10', 'RE25', 'RE75','RE95', 'RE99', 'RE90']\n",
        "#names = ['deion', 'rubin']\n",
        "dataset = None;\n"
      ],
      "metadata": {
        "id": "Rmn_0obxFtKv"
      },
      "execution_count": null,
      "outputs": []
    },
    {
      "cell_type": "code",
      "source": [
        "for name in names:\n",
        "  path_base = 'Dati_Dataset_conduttivi/' + name\n",
        "  for v in voltage:\n",
        "\n",
        "    dati_tmp = pd.read_csv(f'{path_base}/{v}V_1.CSV', skiprows=25,header=None).iloc[:, 1]\n",
        "\n",
        "    label_tmp = assign_label(v, name, 0)\n",
        "    dati_tmp.loc[10001] = label_tmp\n",
        "    for e in experiments[1:]:\n",
        "      if name == 'RE90' and int(v) == 24 and e == 10:\n",
        "        break\n",
        "\n",
        "      if name == 'RE95' and (int(v) == 12 or int(v) == 24) and e == 10:\n",
        "        break\n",
        "\n",
        "      dati_tmp_2 = pd.read_csv(f'{path_base}/{v}V_{e}.CSV', skiprows=25,header=None).iloc[:, 1]\n",
        "      label_tmp_2 = assign_label(v, name, e-1)\n",
        "      dati_tmp_2.loc[10001] = label_tmp_2\n",
        "      dati_tmp = pd.concat([dati_tmp,dati_tmp_2], axis = 1)\n",
        "\n",
        "    if dataset is None:\n",
        "      dataset = dati_tmp\n",
        "    else:\n",
        "      dataset = pd.concat([dataset,dati_tmp], axis = 1)"
      ],
      "metadata": {
        "id": "gUYzwWX--4T3",
        "collapsed": true
      },
      "execution_count": null,
      "outputs": []
    },
    {
      "cell_type": "code",
      "source": [
        "data = dataset.transpose()\n",
        "data = data.values\n",
        "np.save('Dataset_Condensatore_Conduttivi.npy', data)"
      ],
      "metadata": {
        "id": "FVI0uxQzN8Rv"
      },
      "execution_count": null,
      "outputs": []
    },
    {
      "cell_type": "code",
      "source": [
        "X = data[:, :-1]\n",
        "y = data[:, -1]"
      ],
      "metadata": {
        "id": "V01wv8hOOAKX"
      },
      "execution_count": null,
      "outputs": []
    }
  ]
}